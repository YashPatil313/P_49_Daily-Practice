{
 "cells": [
  {
   "cell_type": "code",
   "execution_count": null,
   "id": "64ee3e6d",
   "metadata": {},
   "outputs": [],
   "source": [
    "1. Theoretical Question:\n",
    "- Explain the difference between a list and a tuple in Python. When would you use one over the other?\n",
    "2. Coding Question:\n",
    "- Write a Python function to remove all duplicates from a list.\n",
    "3. Coding Question:\n",
    "- Write a Python program to create a dictionary from two lists, one containing keys and the other containing values.\n",
    "4. Coding Question:\n",
    "- Write a Python function to check if a given string is a palindrome.\n",
    "5. Coding Question:\n",
    "- Write a Python function to merge two dictionaries. If the keys are the same, sum their values; otherwise, \n",
    "  add the key-value pair to the merged dictionary."
   ]
  },
  {
   "cell_type": "code",
   "execution_count": null,
   "id": "9dc06106",
   "metadata": {},
   "outputs": [],
   "source": [
    "# 1. Theoretical Question:\n",
    "# - Explain the difference between a list and a tuple in Python. When would you use one over the other?\n",
    "-List are mutable, ordered collections of elements while tuple are immutable, ordered collections.\n",
    "-List are typically used for collection of silimar items where orderd matter and items might get added, removed or modifited.\n",
    "-Tuples are often used for fixed collection of hetrogeneous data where immutability is desired such as database records."
   ]
  },
  {
   "cell_type": "code",
   "execution_count": 2,
   "id": "f25e0bdb",
   "metadata": {},
   "outputs": [
    {
     "name": "stdout",
     "output_type": "stream",
     "text": [
      "Enter the List:1,1,2,2,3,3,4,5,6,6,7,8\n",
      "[1, 2, 3, 4, 5, 6, 7, 8]\n"
     ]
    }
   ],
   "source": [
    "# 2. Coding Question:\n",
    "# - Write a Python function to remove all duplicates from a list.\n",
    "def remove_duplicates(input_list):\n",
    "    output_list = []\n",
    "    for items in input_list:\n",
    "        if items not in output_list:\n",
    "            output_list.append(items)\n",
    "    return output_list\n",
    "\n",
    "my_list = input('Enter the List:').split(',')\n",
    "my_list = [int (x) for x in my_list]\n",
    "print(remove_duplicates(my_list))"
   ]
  },
  {
   "cell_type": "code",
   "execution_count": 3,
   "id": "9541de66",
   "metadata": {},
   "outputs": [
    {
     "name": "stdout",
     "output_type": "stream",
     "text": [
      "Enter the keys : a,b,c\n",
      "Enter the values: 1,2,3\n",
      "{'a': '1', 'b': '2', 'c': '3'}\n"
     ]
    }
   ],
   "source": [
    "# 3. Coding Question:\n",
    "# - Write a Python program to create a dictionary from two lists, one containing keys and the other containing values.\n",
    "def create_dict(keys, values):\n",
    "    result_dict = {}\n",
    "    for i in range(len(keys)):\n",
    "        result_dict[keys[i]] = values[i]\n",
    "    return result_dict\n",
    "\n",
    "keys = input('Enter the keys : ').split(',')\n",
    "values = input('Enter the values: ').split(',')\n",
    "print(create_dict(keys, values))\n"
   ]
  },
  {
   "cell_type": "code",
   "execution_count": 9,
   "id": "64e98261",
   "metadata": {},
   "outputs": [
    {
     "name": "stdout",
     "output_type": "stream",
     "text": [
      "Enter the String:121\n",
      "It is Palindrome\n"
     ]
    }
   ],
   "source": [
    "# 4. Coding Question:\n",
    "# - Write a Python function to check if a given string is a palindrome.\n",
    "def is_palindrome(s):\n",
    "    length = len(s)\n",
    "    for i in range(length //2):\n",
    "        if s[i] != s[length - i -1]:\n",
    "            return False\n",
    "    return True\n",
    "\n",
    "my_str = input('Enter the String:')\n",
    "if is_palindrome(my_str):\n",
    "    print('It is Palindrome')\n",
    "else:\n",
    "    print(\"It's not a Palindrome\")"
   ]
  },
  {
   "cell_type": "code",
   "execution_count": 19,
   "id": "9bdf9647",
   "metadata": {},
   "outputs": [
    {
     "name": "stdout",
     "output_type": "stream",
     "text": [
      "{'a': 10, 'b': 'baseball', 'c': 80, 'd': 60}\n"
     ]
    }
   ],
   "source": [
    "# 5. Coding Question:\n",
    "# - Write a Python function to merge two dictionaries. If the keys are the same, sum their values; otherwise, \n",
    "#   add the key-value pair to the merged dictionary.\n",
    "def merge_dicts(dict1, dict2):\n",
    "    merged_dict = {}\n",
    "    \n",
    "    for keys, values in dict1.items():\n",
    "        merged_dict[keys] = values\n",
    "        \n",
    "    for key, value in dict2.items():\n",
    "        if key in merged_dict:\n",
    "            merged_dict[key] += value\n",
    "        else:\n",
    "            merged_dict[key] = value\n",
    "            \n",
    "    return merged_dict\n",
    "\n",
    "dict1= {'a': 10, 'b': 'base', 'c': 30}\n",
    "dict2 = {'b': 'ball', 'c': 50, 'd': 60}\n",
    "print(merge_dicts(dict1, dict2))\n"
   ]
  },
  {
   "cell_type": "code",
   "execution_count": null,
   "id": "0355f81e",
   "metadata": {},
   "outputs": [],
   "source": []
  }
 ],
 "metadata": {
  "kernelspec": {
   "display_name": "Python 3 (ipykernel)",
   "language": "python",
   "name": "python3"
  },
  "language_info": {
   "codemirror_mode": {
    "name": "ipython",
    "version": 3
   },
   "file_extension": ".py",
   "mimetype": "text/x-python",
   "name": "python",
   "nbconvert_exporter": "python",
   "pygments_lexer": "ipython3",
   "version": "3.9.7"
  }
 },
 "nbformat": 4,
 "nbformat_minor": 5
}
